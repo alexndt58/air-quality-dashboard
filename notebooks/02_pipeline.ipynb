{
  "cells": [
    {
      "cell_type": "markdown",
      "metadata": {},
      "source": [
        "# Air Quality Dashboard Pipeline Notebook\n",
        "\n",
        "This notebook runs the **full ingestion and cleaning pipeline** for the project, which then shows the first few rows of clean data.\n",
        "\n"
      ]
    },
    {
      "cell_type": "code",
      "execution_count": null,
      "metadata": {
        "vscode": {
          "languageId": "plaintext"
        }
      },
      "outputs": [],
      "source": [
        "# Pipeline wrapper: run ETL/cleaning from the notebook\n",
        "\n",
        "from prototype.ingestion.ingest import ingest\n",
        "from prototype.cleaning.clean import clean\n",
        "import duckdb\n",
        "import pandas as pd\n"
      ]
    },
    {
      "cell_type": "code",
      "execution_count": null,
      "metadata": {
        "vscode": {
          "languageId": "plaintext"
        }
      },
      "outputs": [],
      "source": [
        "# Run the ingestion pipeline\n",
        "ingest(\n",
        "    raw_dir=\"data/raw\",                # Path to your raw data\n",
        "    db_path=\"data/airquality.duckdb\"   # Output DuckDB file\n",
        ")\n"
      ]
    },
    {
      "cell_type": "code",
      "execution_count": null,
      "metadata": {
        "vscode": {
          "languageId": "plaintext"
        }
      },
      "outputs": [],
      "source": [
        "# Run the cleaning pipeline\n",
        "clean(\n",
        "    db_path=\"data/airquality.duckdb\",  # DuckDB file to clean\n",
        "    max_gap_hours=2                    # Example: max gap for forward fill\n",
        ")\n"
      ]
    },
    {
      "cell_type": "code",
      "execution_count": null,
      "metadata": {
        "vscode": {
          "languageId": "plaintext"
        }
      },
      "outputs": [],
      "source": [
        "# Connect to DuckDB and see what's inside\n",
        "con = duckdb.connect(\"data/airquality.duckdb\")\n",
        "print(\"Tables:\", con.execute(\"SHOW TABLES\").fetchall())\n",
        "\n",
        "df_aurn = con.execute(\"SELECT * FROM clean_aurn LIMIT 5\").df()\n",
        "df_weather = con.execute(\"SELECT * FROM clean_weather LIMIT 5\").df()\n",
        "\n",
        "print(\"AURN sample:\")\n",
        "display(df_aurn)\n",
        "\n",
        "print(\"Weather sample:\")\n",
        "display(df_weather)\n",
        "\n",
        "con.close()\n"
      ]
    },
    {
      "cell_type": "code",
      "execution_count": null,
      "metadata": {
        "vscode": {
          "languageId": "plaintext"
        }
      },
      "outputs": [],
      "source": [
        "# Quick plot: NO2 time series from clean_aurn\n",
        "\n",
        "import matplotlib.pyplot as plt\n",
        "\n",
        "con = duckdb.connect(\"data/airquality.duckdb\")\n",
        "df = con.execute(\"SELECT datetime, no2 FROM clean_aurn ORDER BY datetime LIMIT 100\").df()\n",
        "con.close()\n",
        "\n",
        "plt.figure(figsize=(10, 4))\n",
        "plt.plot(df[\"datetime\"], df[\"no2\"], label=\"NO₂ (clean)\")\n",
        "plt.xlabel(\"Datetime\")\n",
        "plt.ylabel(\"NO₂ (µg/m³)\")\n",
        "plt.title(\"NO₂ Time Series (Sample)\")\n",
        "plt.legend()\n",
        "plt.tight_layout()\n",
        "plt.show()\n"
      ]
    }
  ],
  "metadata": {
    "language_info": {
      "name": "python"
    }
  },
  "nbformat": 4,
  "nbformat_minor": 2
}
