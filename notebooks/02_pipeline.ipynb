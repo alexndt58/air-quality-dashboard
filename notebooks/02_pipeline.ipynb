{
  "cells": [
    {
      "cell_type": "code",
      "execution_count": null,
      "metadata": {
        "vscode": {
          "languageId": "plaintext"
        }
      },
      "outputs": [],
      "source": [
        "# Cell: Imports\n",
        "import duckdb\n",
        "import pandas as pd\n",
        "\n",
        "# Cell: Preview tables\n",
        "con = duckdb.connect(\"data/airquality.duckdb\", read_only=True)\n",
        "print(\"Tables:\", con.execute(\"SHOW TABLES\").fetchall())\n",
        "\n",
        "# Cell: Peek at cleaned air quality\n",
        "df_air = con.execute(\"\"\"\n",
        "    SELECT site_name, no2, pm25, datetime\n",
        "    FROM clean_aurn\n",
        "    ORDER BY datetime DESC\n",
        "    LIMIT 5\n",
        "\"\"\").df()\n",
        "display(df_air)\n",
        "\n",
        "# Cell: Peek at cleaned weather (if any)\n",
        "df_wx = con.execute(\"SELECT * FROM clean_weather LIMIT 5\").df()\n",
        "display(df_wx)\n",
        "\n",
        "con.close()\n",
        "\n",
        "# Cell: Plot top 10 by avg NO₂\n",
        "df_sum = duckdb.connect(\"data/airquality.duckdb\", read_only=True) \\\n",
        "    .execute(\"\"\"\n",
        "      SELECT site_name, AVG(no2) AS avg_no2\n",
        "      FROM clean_aurn\n",
        "      GROUP BY site_name\n",
        "      ORDER BY avg_no2 DESC\n",
        "      LIMIT 10\n",
        "    \"\"\").df()\n",
        "df_sum.plot.bar(x=\"site_name\", y=\"avg_no2\", title=\"Top 10 Sites by Avg NO₂\");\n"
      ]
    }
  ],
  "metadata": {
    "language_info": {
      "name": "python"
    }
  },
  "nbformat": 4,
  "nbformat_minor": 2
}
